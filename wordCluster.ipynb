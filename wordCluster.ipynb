{
 "cells": [
  {
   "cell_type": "code",
   "execution_count": 890,
   "metadata": {},
   "outputs": [],
   "source": [
    "import pandas as pd\n",
    "from gensim.models import Word2Vec, KeyedVectors\n",
    "import copy\n",
    "import numpy as np\n",
    "import nltk\n",
    "import matplotlib.pyplot as plt"
   ]
  },
  {
   "cell_type": "code",
   "execution_count": 891,
   "metadata": {},
   "outputs": [],
   "source": [
    "#constantes:\n",
    "num_clusters = 700"
   ]
  },
  {
   "cell_type": "code",
   "execution_count": 892,
   "metadata": {},
   "outputs": [
    {
     "data": {
      "text/html": [
       "<div>\n",
       "<style scoped>\n",
       "    .dataframe tbody tr th:only-of-type {\n",
       "        vertical-align: middle;\n",
       "    }\n",
       "\n",
       "    .dataframe tbody tr th {\n",
       "        vertical-align: top;\n",
       "    }\n",
       "\n",
       "    .dataframe thead th {\n",
       "        text-align: right;\n",
       "    }\n",
       "</style>\n",
       "<table border=\"1\" class=\"dataframe\">\n",
       "  <thead>\n",
       "    <tr style=\"text-align: right;\">\n",
       "      <th></th>\n",
       "      <th>aspect_name</th>\n",
       "    </tr>\n",
       "  </thead>\n",
       "  <tbody>\n",
       "    <tr>\n",
       "      <th>0</th>\n",
       "      <td>laptop</td>\n",
       "    </tr>\n",
       "    <tr>\n",
       "      <th>1</th>\n",
       "      <td>use</td>\n",
       "    </tr>\n",
       "    <tr>\n",
       "      <th>2</th>\n",
       "      <td>computer</td>\n",
       "    </tr>\n",
       "    <tr>\n",
       "      <th>3</th>\n",
       "      <td>screen</td>\n",
       "    </tr>\n",
       "    <tr>\n",
       "      <th>4</th>\n",
       "      <td>price</td>\n",
       "    </tr>\n",
       "    <tr>\n",
       "      <th>...</th>\n",
       "      <td>...</td>\n",
       "    </tr>\n",
       "    <tr>\n",
       "      <th>7330</th>\n",
       "      <td>cool feature</td>\n",
       "    </tr>\n",
       "    <tr>\n",
       "      <th>7331</th>\n",
       "      <td>professional laptop</td>\n",
       "    </tr>\n",
       "    <tr>\n",
       "      <th>7332</th>\n",
       "      <td>professional life</td>\n",
       "    </tr>\n",
       "    <tr>\n",
       "      <th>7333</th>\n",
       "      <td>professional look</td>\n",
       "    </tr>\n",
       "    <tr>\n",
       "      <th>7334</th>\n",
       "      <td>professional photographer</td>\n",
       "    </tr>\n",
       "  </tbody>\n",
       "</table>\n",
       "<p>7335 rows × 1 columns</p>\n",
       "</div>"
      ],
      "text/plain": [
       "                    aspect_name\n",
       "0                        laptop\n",
       "1                           use\n",
       "2                      computer\n",
       "3                        screen\n",
       "4                         price\n",
       "...                         ...\n",
       "7330               cool feature\n",
       "7331        professional laptop\n",
       "7332          professional life\n",
       "7333          professional look\n",
       "7334  professional photographer\n",
       "\n",
       "[7335 rows x 1 columns]"
      ]
     },
     "execution_count": 892,
     "metadata": {},
     "output_type": "execute_result"
    }
   ],
   "source": [
    "#pegando o dataframe\n",
    "df = pd.read_csv('data/laptop_filtered_aspect_sample.csv')\n",
    "df"
   ]
  },
  {
   "cell_type": "code",
   "execution_count": 893,
   "metadata": {},
   "outputs": [],
   "source": [
    "words = df.values.tolist()\n",
    "clean_words = []\n",
    "clean_vector = []\n",
    "for word in words:\n",
    "    clean_words.append(nltk.word_tokenize(word[0]))\n",
    "for word in words:\n",
    "    clean_vector.append(word[0].split(\" \"))"
   ]
  },
  {
   "cell_type": "code",
   "execution_count": 894,
   "metadata": {},
   "outputs": [
    {
     "data": {
      "text/plain": [
       "(663266, 720900)"
      ]
     },
     "execution_count": 894,
     "metadata": {},
     "output_type": "execute_result"
    }
   ],
   "source": [
    "#treinando o modelo de wordvec\n",
    "model = Word2Vec(sg=0, ns_exponent=0.75,min_count=1, size=32, workers=1,seed=7)\n",
    "model.build_vocab(clean_words, progress_per=10000)\n",
    "model.train(clean_words, total_examples=model.corpus_count, epochs=60, report_delay=1)"
   ]
  },
  {
   "cell_type": "code",
   "execution_count": 895,
   "metadata": {},
   "outputs": [
    {
     "name": "stderr",
     "output_type": "stream",
     "text": [
      "C:\\Users\\Laura\\Anaconda3\\envs\\pnl\\lib\\site-packages\\ipykernel_launcher.py:11: DeprecationWarning: Call to deprecated `__getitem__` (Method will be removed in 4.0.0, use self.wv.__getitem__() instead).\n",
      "  # This is added back by InteractiveShellApp.init_path()\n"
     ]
    }
   ],
   "source": [
    "np_vector = []\n",
    "np_label = []\n",
    "for vec in clean_vector:\n",
    "    count = 0\n",
    "    string = ''\n",
    "    aux = []\n",
    "    exist = False\n",
    "    for word in vec:\n",
    "        if word in  model.wv.vocab:\n",
    "            string += word + ' '\n",
    "            aux.append(model[word])\n",
    "            exist = True\n",
    "    if exist:\n",
    "        aux = sum(aux)/len(aux)\n",
    "        np_vector.append(aux)\n",
    "        np_label.append(string)"
   ]
  },
  {
   "cell_type": "code",
   "execution_count": 896,
   "metadata": {},
   "outputs": [],
   "source": [
    "#colocando o modelo do TSNE \n",
    "from sklearn.manifold import TSNE\n",
    "SNEt = TSNE(n_components=2, random_state=4)\n",
    "tsne_data = SNEt.fit_transform(np_vector)"
   ]
  },
  {
   "cell_type": "code",
   "execution_count": 897,
   "metadata": {},
   "outputs": [],
   "source": [
    "tsne_word = []\n",
    "for key, tupla in enumerate(tsne_data):\n",
    "    tsne_word.append(tsne_data[key].tolist())\n",
    "    tsne_word[key].append(np_label[key])"
   ]
  },
  {
   "cell_type": "code",
   "execution_count": 898,
   "metadata": {},
   "outputs": [
    {
     "data": {
      "text/html": [
       "<div>\n",
       "<style scoped>\n",
       "    .dataframe tbody tr th:only-of-type {\n",
       "        vertical-align: middle;\n",
       "    }\n",
       "\n",
       "    .dataframe tbody tr th {\n",
       "        vertical-align: top;\n",
       "    }\n",
       "\n",
       "    .dataframe thead th {\n",
       "        text-align: right;\n",
       "    }\n",
       "</style>\n",
       "<table border=\"1\" class=\"dataframe\">\n",
       "  <thead>\n",
       "    <tr style=\"text-align: right;\">\n",
       "      <th></th>\n",
       "      <th>X</th>\n",
       "      <th>Y</th>\n",
       "      <th>Word</th>\n",
       "    </tr>\n",
       "  </thead>\n",
       "  <tbody>\n",
       "    <tr>\n",
       "      <th>0</th>\n",
       "      <td>-13.880808</td>\n",
       "      <td>45.260624</td>\n",
       "      <td>laptop</td>\n",
       "    </tr>\n",
       "    <tr>\n",
       "      <th>1</th>\n",
       "      <td>-23.835672</td>\n",
       "      <td>34.531693</td>\n",
       "      <td>use</td>\n",
       "    </tr>\n",
       "    <tr>\n",
       "      <th>2</th>\n",
       "      <td>-13.794401</td>\n",
       "      <td>46.060638</td>\n",
       "      <td>computer</td>\n",
       "    </tr>\n",
       "    <tr>\n",
       "      <th>3</th>\n",
       "      <td>-39.608086</td>\n",
       "      <td>4.042678</td>\n",
       "      <td>screen</td>\n",
       "    </tr>\n",
       "    <tr>\n",
       "      <th>4</th>\n",
       "      <td>-15.035504</td>\n",
       "      <td>47.118874</td>\n",
       "      <td>price</td>\n",
       "    </tr>\n",
       "  </tbody>\n",
       "</table>\n",
       "</div>"
      ],
      "text/plain": [
       "           X          Y       Word\n",
       "0 -13.880808  45.260624    laptop \n",
       "1 -23.835672  34.531693       use \n",
       "2 -13.794401  46.060638  computer \n",
       "3 -39.608086   4.042678    screen \n",
       "4 -15.035504  47.118874     price "
      ]
     },
     "execution_count": 898,
     "metadata": {},
     "output_type": "execute_result"
    }
   ],
   "source": [
    "sne_pd = pd.DataFrame(tsne_word, columns=['X','Y','Word'])\n",
    "sne_pd.head()"
   ]
  },
  {
   "cell_type": "code",
   "execution_count": 899,
   "metadata": {},
   "outputs": [
    {
     "data": {
      "image/png": "[encoded data removed]",
      "text/plain": [
       "<Figure size 432x288 with 1 Axes>"
      ]
     },
     "metadata": {
      "needs_background": "light"
     },
     "output_type": "display_data"
    }
   ],
   "source": [
    "sne_pd.plot.scatter(x='X',y='Y')\n",
    "plt.show()"
   ]
  },
  {
   "cell_type": "code",
   "execution_count": 900,
   "metadata": {},
   "outputs": [],
   "source": [
    "#usando k-means\n",
    "from sklearn.cluster import KMeans\n",
    "%matplotlib inline"
   ]
  },
  {
   "cell_type": "code",
   "execution_count": 901,
   "metadata": {},
   "outputs": [],
   "source": [
    "#testando agora com a clusterizacao depois do tsne"
   ]
  },
  {
   "cell_type": "code",
   "execution_count": 902,
   "metadata": {},
   "outputs": [],
   "source": [
    "#treinando o modelo\n",
    "clustering = KMeans(n_clusters=num_clusters, random_state=8)\n",
    "clustering.fit(sne_pd[['X','Y']])\n",
    "predictClusterKMeans = clustering.predict(sne_pd[['X','Y']])"
   ]
  },
  {
   "cell_type": "code",
   "execution_count": 903,
   "metadata": {},
   "outputs": [
    {
     "data": {
      "text/html": [
       "<div>\n",
       "<style scoped>\n",
       "    .dataframe tbody tr th:only-of-type {\n",
       "        vertical-align: middle;\n",
       "    }\n",
       "\n",
       "    .dataframe tbody tr th {\n",
       "        vertical-align: top;\n",
       "    }\n",
       "\n",
       "    .dataframe thead th {\n",
       "        text-align: right;\n",
       "    }\n",
       "</style>\n",
       "<table border=\"1\" class=\"dataframe\">\n",
       "  <thead>\n",
       "    <tr style=\"text-align: right;\">\n",
       "      <th></th>\n",
       "      <th>X</th>\n",
       "      <th>Y</th>\n",
       "    </tr>\n",
       "  </thead>\n",
       "  <tbody>\n",
       "    <tr>\n",
       "      <th>0</th>\n",
       "      <td>14.919762</td>\n",
       "      <td>71.670358</td>\n",
       "    </tr>\n",
       "    <tr>\n",
       "      <th>1</th>\n",
       "      <td>-22.873140</td>\n",
       "      <td>-14.398328</td>\n",
       "    </tr>\n",
       "    <tr>\n",
       "      <th>2</th>\n",
       "      <td>44.846196</td>\n",
       "      <td>-1.102414</td>\n",
       "    </tr>\n",
       "    <tr>\n",
       "      <th>3</th>\n",
       "      <td>17.822941</td>\n",
       "      <td>-73.316343</td>\n",
       "    </tr>\n",
       "    <tr>\n",
       "      <th>4</th>\n",
       "      <td>-61.626251</td>\n",
       "      <td>-4.233448</td>\n",
       "    </tr>\n",
       "  </tbody>\n",
       "</table>\n",
       "</div>"
      ],
      "text/plain": [
       "           X          Y\n",
       "0  14.919762  71.670358\n",
       "1 -22.873140 -14.398328\n",
       "2  44.846196  -1.102414\n",
       "3  17.822941 -73.316343\n",
       "4 -61.626251  -4.233448"
      ]
     },
     "execution_count": 903,
     "metadata": {},
     "output_type": "execute_result"
    }
   ],
   "source": [
    "#achando os centroides\n",
    "centersKmeans = clustering.cluster_centers_\n",
    "centersKmeans = pd.DataFrame(centersKmeans,columns=['X','Y'])\n",
    "centersKmeans.head(5)"
   ]
  },
  {
   "cell_type": "code",
   "execution_count": 904,
   "metadata": {},
   "outputs": [
    {
     "data": {
      "image/png": "[encoded data removed]",
      "text/plain": [
       "<Figure size 432x288 with 1 Axes>"
      ]
     },
     "metadata": {
      "needs_background": "light"
     },
     "output_type": "display_data"
    }
   ],
   "source": [
    "#plotando a resposta\n",
    "plt.scatter(sne_pd['X'], sne_pd['Y'], c=predictClusterKMeans, s=50, alpha=0.5)\n",
    "plt.scatter(centersKmeans['X'], centersKmeans['Y'], c='black', s=1, alpha=0.5)\n",
    "plt.show()\n"
   ]
  },
  {
   "cell_type": "code",
   "execution_count": 905,
   "metadata": {},
   "outputs": [
    {
     "data": {
      "text/html": [
       "<div>\n",
       "<style scoped>\n",
       "    .dataframe tbody tr th:only-of-type {\n",
       "        vertical-align: middle;\n",
       "    }\n",
       "\n",
       "    .dataframe tbody tr th {\n",
       "        vertical-align: top;\n",
       "    }\n",
       "\n",
       "    .dataframe thead th {\n",
       "        text-align: right;\n",
       "    }\n",
       "</style>\n",
       "<table border=\"1\" class=\"dataframe\">\n",
       "  <thead>\n",
       "    <tr style=\"text-align: right;\">\n",
       "      <th></th>\n",
       "      <th>X</th>\n",
       "      <th>Y</th>\n",
       "      <th>Word</th>\n",
       "      <th>Group</th>\n",
       "    </tr>\n",
       "  </thead>\n",
       "  <tbody>\n",
       "    <tr>\n",
       "      <th>4316</th>\n",
       "      <td>15.458570</td>\n",
       "      <td>71.288689</td>\n",
       "      <td>very interesting</td>\n",
       "      <td>0</td>\n",
       "    </tr>\n",
       "    <tr>\n",
       "      <th>7146</th>\n",
       "      <td>15.854190</td>\n",
       "      <td>71.051041</td>\n",
       "      <td>very firm</td>\n",
       "      <td>0</td>\n",
       "    </tr>\n",
       "    <tr>\n",
       "      <th>7163</th>\n",
       "      <td>15.602552</td>\n",
       "      <td>71.528290</td>\n",
       "      <td>very natural</td>\n",
       "      <td>0</td>\n",
       "    </tr>\n",
       "    <tr>\n",
       "      <th>3082</th>\n",
       "      <td>15.121326</td>\n",
       "      <td>71.344284</td>\n",
       "      <td>very dependable</td>\n",
       "      <td>0</td>\n",
       "    </tr>\n",
       "    <tr>\n",
       "      <th>2620</th>\n",
       "      <td>14.272237</td>\n",
       "      <td>72.478813</td>\n",
       "      <td>very dissatisfied</td>\n",
       "      <td>0</td>\n",
       "    </tr>\n",
       "  </tbody>\n",
       "</table>\n",
       "</div>"
      ],
      "text/plain": [
       "              X          Y                Word  Group\n",
       "4316  15.458570  71.288689   very interesting       0\n",
       "7146  15.854190  71.051041          very firm       0\n",
       "7163  15.602552  71.528290       very natural       0\n",
       "3082  15.121326  71.344284    very dependable       0\n",
       "2620  14.272237  72.478813  very dissatisfied       0"
      ]
     },
     "execution_count": 905,
     "metadata": {},
     "output_type": "execute_result"
    }
   ],
   "source": [
    "sne_pd['Group'] = predictClusterKMeans\n",
    "sne_pd = sne_pd.sort_values('Group')\n",
    "sne_pd.head()"
   ]
  },
  {
   "cell_type": "code",
   "execution_count": 906,
   "metadata": {},
   "outputs": [
    {
     "data": {
      "text/html": [
       "<div>\n",
       "<style scoped>\n",
       "    .dataframe tbody tr th:only-of-type {\n",
       "        vertical-align: middle;\n",
       "    }\n",
       "\n",
       "    .dataframe tbody tr th {\n",
       "        vertical-align: top;\n",
       "    }\n",
       "\n",
       "    .dataframe thead th {\n",
       "        text-align: right;\n",
       "    }\n",
       "</style>\n",
       "<table border=\"1\" class=\"dataframe\">\n",
       "  <thead>\n",
       "    <tr style=\"text-align: right;\">\n",
       "      <th></th>\n",
       "      <th>X</th>\n",
       "      <th>Y</th>\n",
       "      <th>Word</th>\n",
       "      <th>Group</th>\n",
       "    </tr>\n",
       "  </thead>\n",
       "  <tbody>\n",
       "    <tr>\n",
       "      <th>4977</th>\n",
       "      <td>7.023483</td>\n",
       "      <td>14.916942</td>\n",
       "      <td>bit hard</td>\n",
       "      <td>10</td>\n",
       "    </tr>\n",
       "    <tr>\n",
       "      <th>2206</th>\n",
       "      <td>7.005365</td>\n",
       "      <td>14.903019</td>\n",
       "      <td>really hard</td>\n",
       "      <td>10</td>\n",
       "    </tr>\n",
       "    <tr>\n",
       "      <th>1809</th>\n",
       "      <td>6.993125</td>\n",
       "      <td>14.907119</td>\n",
       "      <td>very hard</td>\n",
       "      <td>10</td>\n",
       "    </tr>\n",
       "    <tr>\n",
       "      <th>2728</th>\n",
       "      <td>7.024361</td>\n",
       "      <td>14.903269</td>\n",
       "      <td>too hard</td>\n",
       "      <td>10</td>\n",
       "    </tr>\n",
       "    <tr>\n",
       "      <th>5672</th>\n",
       "      <td>7.012806</td>\n",
       "      <td>14.915442</td>\n",
       "      <td>extremely hard</td>\n",
       "      <td>10</td>\n",
       "    </tr>\n",
       "  </tbody>\n",
       "</table>\n",
       "</div>"
      ],
      "text/plain": [
       "             X          Y             Word  Group\n",
       "4977  7.023483  14.916942        bit hard      10\n",
       "2206  7.005365  14.903019     really hard      10\n",
       "1809  6.993125  14.907119       very hard      10\n",
       "2728  7.024361  14.903269        too hard      10\n",
       "5672  7.012806  14.915442  extremely hard      10"
      ]
     },
     "execution_count": 906,
     "metadata": {},
     "output_type": "execute_result"
    }
   ],
   "source": [
    "sne_pd.loc[sne_pd['Group'] == 10]"
   ]
  },
  {
   "cell_type": "code",
   "execution_count": null,
   "metadata": {},
   "outputs": [],
   "source": [
    "import glob\n",
    "files_present = True\n",
    "while(files_present):\n",
    "    name = input('nome que deseja para o arquivo resposta:')\n",
    "    filename = name + '.csv'\n",
    "    files_present = glob.glob(filename)\n",
    "    if not files_present:\n",
    "        sne_pd.to_csv(filename, encoding='utf-8', index=False, columns=['Word','Group'])\n",
    "        files_present = False\n",
    "    else:\n",
    "        print('Esse Arquivo Já Existe, Tente novamente') \n",
    "        \n"
   ]
  },
  {
   "cell_type": "code",
   "execution_count": null,
   "metadata": {},
   "outputs": [],
   "source": []
  },
  {
   "cell_type": "code",
   "execution_count": null,
   "metadata": {},
   "outputs": [],
   "source": []
  },
  {
   "cell_type": "code",
   "execution_count": null,
   "metadata": {},
   "outputs": [],
   "source": []
  },
  {
   "cell_type": "code",
   "execution_count": null,
   "metadata": {},
   "outputs": [],
   "source": []
  },
  {
   "cell_type": "code",
   "execution_count": 31,
   "metadata": {},
   "outputs": [
    {
     "data": {
      "text/html": [
       "<div>\n",
       "<style scoped>\n",
       "    .dataframe tbody tr th:only-of-type {\n",
       "        vertical-align: middle;\n",
       "    }\n",
       "\n",
       "    .dataframe tbody tr th {\n",
       "        vertical-align: top;\n",
       "    }\n",
       "\n",
       "    .dataframe thead th {\n",
       "        text-align: right;\n",
       "    }\n",
       "</style>\n",
       "<table border=\"1\" class=\"dataframe\">\n",
       "  <thead>\n",
       "    <tr style=\"text-align: right;\">\n",
       "      <th></th>\n",
       "      <th>X</th>\n",
       "      <th>Y</th>\n",
       "    </tr>\n",
       "  </thead>\n",
       "  <tbody>\n",
       "    <tr>\n",
       "      <th>0</th>\n",
       "      <td>-12.458729</td>\n",
       "      <td>79.977226</td>\n",
       "    </tr>\n",
       "    <tr>\n",
       "      <th>1</th>\n",
       "      <td>-37.039921</td>\n",
       "      <td>57.506691</td>\n",
       "    </tr>\n",
       "    <tr>\n",
       "      <th>2</th>\n",
       "      <td>-13.862880</td>\n",
       "      <td>78.773529</td>\n",
       "    </tr>\n",
       "    <tr>\n",
       "      <th>3</th>\n",
       "      <td>-13.074478</td>\n",
       "      <td>79.401512</td>\n",
       "    </tr>\n",
       "    <tr>\n",
       "      <th>4</th>\n",
       "      <td>-24.055494</td>\n",
       "      <td>72.964653</td>\n",
       "    </tr>\n",
       "    <tr>\n",
       "      <th>...</th>\n",
       "      <td>...</td>\n",
       "      <td>...</td>\n",
       "    </tr>\n",
       "    <tr>\n",
       "      <th>7322</th>\n",
       "      <td>23.934101</td>\n",
       "      <td>-64.390694</td>\n",
       "    </tr>\n",
       "    <tr>\n",
       "      <th>7323</th>\n",
       "      <td>-39.697456</td>\n",
       "      <td>41.522041</td>\n",
       "    </tr>\n",
       "    <tr>\n",
       "      <th>7324</th>\n",
       "      <td>23.840078</td>\n",
       "      <td>-27.748844</td>\n",
       "    </tr>\n",
       "    <tr>\n",
       "      <th>7325</th>\n",
       "      <td>27.592096</td>\n",
       "      <td>-56.580265</td>\n",
       "    </tr>\n",
       "    <tr>\n",
       "      <th>7326</th>\n",
       "      <td>-6.645795</td>\n",
       "      <td>-65.191666</td>\n",
       "    </tr>\n",
       "  </tbody>\n",
       "</table>\n",
       "<p>7327 rows × 2 columns</p>\n",
       "</div>"
      ],
      "text/plain": [
       "              X          Y\n",
       "0    -12.458729  79.977226\n",
       "1    -37.039921  57.506691\n",
       "2    -13.862880  78.773529\n",
       "3    -13.074478  79.401512\n",
       "4    -24.055494  72.964653\n",
       "...         ...        ...\n",
       "7322  23.934101 -64.390694\n",
       "7323 -39.697456  41.522041\n",
       "7324  23.840078 -27.748844\n",
       "7325  27.592096 -56.580265\n",
       "7326  -6.645795 -65.191666\n",
       "\n",
       "[7327 rows x 2 columns]"
      ]
     },
     "execution_count": 31,
     "metadata": {},
     "output_type": "execute_result"
    }
   ],
   "source": []
  },
  {
   "cell_type": "code",
   "execution_count": null,
   "metadata": {},
   "outputs": [],
   "source": []
  }
 ],
 "metadata": {
  "kernelspec": {
   "display_name": "pnl",
   "language": "python",
   "name": "pnl"
  },
  "language_info": {
   "codemirror_mode": {
    "name": "ipython",
    "version": 3
   },
   "file_extension": ".py",
   "mimetype": "text/x-python",
   "name": "python",
   "nbconvert_exporter": "python",
   "pygments_lexer": "ipython3",
   "version": "3.6.9"
  }
 },
 "nbformat": 4,
 "nbformat_minor": 2
}
